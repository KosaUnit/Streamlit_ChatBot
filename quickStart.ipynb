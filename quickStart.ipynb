{
 "cells": [
  {
   "cell_type": "code",
   "execution_count": 5,
   "id": "a50566b2-5fed-48ef-9c95-8bf2772eaa98",
   "metadata": {},
   "outputs": [],
   "source": [
    "import os\n",
    "from dotenv import load_dotenv\n",
    "from openai import AzureOpenAI\n",
    "\n",
    "load_dotenv()\n",
    "\n",
    "AZURE_OPENAI_API_ENDPOINT = os.getenv(\"AZURE_OPENAI_API_ENDPOINT\")\n",
    "AZURE_OPENAI_API_KEY = os.getenv(\"AZURE_OPENAI_API_KEY\")\n",
    "AZURE_OPENAI_API_VERSION = os.getenv(\"AZURE_OPENAI_API_VERSION\")\n",
    "AZURE_GPT_DEPLOYMENT_NAME = os.getenv(\"AZURE_GPT_DEPLOYMENT_NAME\")"
   ]
  },
  {
   "cell_type": "code",
   "execution_count": 6,
   "id": "5984d38b-f8ae-4ff7-ab45-8188670a3c77",
   "metadata": {},
   "outputs": [],
   "source": [
    "client = AzureOpenAI(\n",
    "  azure_endpoint=AZURE_OPENAI_API_ENDPOINT, \n",
    "  api_key=AZURE_OPENAI_API_KEY,  \n",
    "  api_version=AZURE_OPENAI_API_VERSION\n",
    ")"
   ]
  },
  {
   "cell_type": "code",
   "execution_count": 39,
   "id": "a5101711-dd48-4a85-9c19-dfe805bef6fc",
   "metadata": {},
   "outputs": [],
   "source": [
    "response = client.chat.completions.create(\n",
    "    model=AZURE_GPT_DEPLOYMENT_NAME, # model = \"deployment_name\".\n",
    "    messages=[\n",
    "        {\n",
    "            \"role\": \"system\", \n",
    "            \"content\": \"You are a cooking assistant is a large language model trained by OpenAI. You can only response to the food related questions.\"\n",
    "        },\n",
    "        {\n",
    "            \"role\": \"user\", \n",
    "            \"content\": \"How to cook a pasta? \"\n",
    "        }\n",
    "    ]\n",
    ")"
   ]
  },
  {
   "cell_type": "code",
   "execution_count": null,
   "id": "e3f37c3b-477c-473c-8213-f768544a60e3",
   "metadata": {},
   "outputs": [
    {
     "name": "stdin",
     "output_type": "stream",
     "text": [
      "Q: What is your name? \n"
     ]
    },
    {
     "name": "stdout",
     "output_type": "stream",
     "text": [
      "\n",
      "I’m called ChatGPT! How can I assist you today?\n",
      "\n"
     ]
    },
    {
     "name": "stdin",
     "output_type": "stream",
     "text": [
      "Q: Can you help me to cook a beef soup? \n"
     ]
    },
    {
     "name": "stdout",
     "output_type": "stream",
     "text": [
      "\n",
      "Absolutely! Here’s a simple recipe for a flavorful beef soup:\n",
      "\n",
      "### Ingredients:\n",
      "\n",
      "- **Beef** (chuck or stew meat): 2 pounds, cut into cubes\n",
      "- **Beef broth**: 6 cups (or water with beef bouillon)\n",
      "- **Onion**: 1 large, chopped\n",
      "- **Garlic**: 3 cloves, minced\n",
      "- **Carrots**: 2, sliced\n",
      "- **Celery**: 2 stalks, sliced\n",
      "- **Potatoes**: 2 medium, diced\n",
      "- **Tomatoes**: 1 can (14.5 oz) diced or 2 fresh tomatoes, chopped\n",
      "- **Bay leaves**: 2\n",
      "- **Thyme**: 1 teaspoon (dried) or a few sprigs (fresh)\n",
      "- **Salt**: to taste\n",
      "- **Pepper**: to taste\n",
      "- **Olive oil**: 2 tablespoons\n",
      "- **Optional**: Greens (like spinach or kale), corn, peas\n",
      "\n",
      "### Instructions:\n",
      "\n",
      "1. **Brown the Beef**:\n",
      "   - In a large pot, heat the olive oil over medium-high heat.\n",
      "   - Add the beef cubes and brown on all sides. This helps develop rich flavors. You may need to do this in batches. Remove and set aside.\n",
      "\n",
      "2. **Sauté the Vegetables**:\n",
      "   - In the same pot, add the chopped onion and garlic. Sauté until translucent, about 5 minutes.\n",
      "   - Add the carrots and celery, cooking for another 5 minutes.\n",
      "\n",
      "3. **Combine Ingredients**:\n",
      "   - Return the browned beef to the pot.\n",
      "   - Add the diced tomatoes, beef broth, potatoes, bay leaves, thyme, salt, and pepper. Stir well to combine.\n",
      "\n",
      "4. **Simmer**:\n",
      "   - Bring the mixture to a boil, then reduce the heat to low.\n",
      "   - Cover and let it simmer for about 1.5 to 2 hours, or until the beef is tender. Stir occasionally.\n",
      "\n",
      "5. **Add Optional Ingredients** (if using):\n",
      "   - If you want to add greens, corn, or peas, add them in the last 10-15 minutes of cooking.\n",
      "\n",
      "6. **Taste and Adjust**:\n",
      "   - Taste the soup and adjust seasoning if necessary. Remove the bay leaves before serving.\n",
      "\n",
      "7. **Serve**:\n",
      "   - Ladle the soup into bowls and enjoy! It pairs well with crusty bread.\n",
      "\n",
      "### Tips:\n",
      "- For extra flavor, you can add a splash of soy sauce or Worcestershire sauce.\n",
      "- You can make it in a slow cooker as well. Just brown the meat first, then add all ingredients and cook on low for 6-8 hours.\n",
      "\n",
      "Enjoy your hearty beef soup! If you have any specific preferences or dietary restrictions, let me know, and I can adjust the recipe!\n",
      "\n"
     ]
    }
   ],
   "source": [
    "conversation=[{\"role\": \"system\", \"content\": \"You are a helpful assistant.\"}]\n",
    "\n",
    "while True:\n",
    "    user_input = input(\"Q:\")      \n",
    "    conversation.append({\"role\": \"user\", \"content\": user_input})\n",
    "\n",
    "    response = client.chat.completions.create(\n",
    "        model=AZURE_GPT_DEPLOYMENT_NAME, # model = \"deployment_name\".\n",
    "        messages=conversation\n",
    "    )\n",
    "\n",
    "    conversation.append({\"role\": \"assistant\", \"content\": response.choices[0].message.content})\n",
    "    print(\"\\n\" + response.choices[0].message.content + \"\\n\")"
   ]
  },
  {
   "cell_type": "code",
   "execution_count": null,
   "id": "b38c090d-d1d8-435b-a0fd-713ded1d72fc",
   "metadata": {},
   "outputs": [],
   "source": []
  }
 ],
 "metadata": {
  "kernelspec": {
   "display_name": "Python 3 (ipykernel)",
   "language": "python",
   "name": "python3"
  },
  "language_info": {
   "codemirror_mode": {
    "name": "ipython",
    "version": 3
   },
   "file_extension": ".py",
   "mimetype": "text/x-python",
   "name": "python",
   "nbconvert_exporter": "python",
   "pygments_lexer": "ipython3",
   "version": "3.11.0"
  }
 },
 "nbformat": 4,
 "nbformat_minor": 5
}
