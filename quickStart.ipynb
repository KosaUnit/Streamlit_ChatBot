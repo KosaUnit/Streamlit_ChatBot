{
 "cells": [
  {
   "cell_type": "code",
   "execution_count": 5,
   "id": "a50566b2-5fed-48ef-9c95-8bf2772eaa98",
   "metadata": {},
   "outputs": [],
   "source": [
    "import os\n",
    "from dotenv import load_dotenv\n",
    "from openai import AzureOpenAI\n",
    "\n",
    "load_dotenv()\n",
    "\n",
    "AZURE_OPENAI_API_ENDPOINT = os.getenv(\"AZURE_OPENAI_API_ENDPOINT\")\n",
    "AZURE_OPENAI_API_KEY = os.getenv(\"AZURE_OPENAI_API_KEY\")\n",
    "AZURE_OPENAI_API_VERSION = os.getenv(\"AZURE_OPENAI_API_VERSION\")\n",
    "AZURE_GPT_DEPLOYMENT_NAME = os.getenv(\"AZURE_GPT_DEPLOYMENT_NAME\")"
   ]
  },
  {
   "cell_type": "code",
   "execution_count": 6,
   "id": "5984d38b-f8ae-4ff7-ab45-8188670a3c77",
   "metadata": {},
   "outputs": [],
   "source": [
    "client = AzureOpenAI(\n",
    "  azure_endpoint=AZURE_OPENAI_API_ENDPOINT, \n",
    "  api_key=AZURE_OPENAI_API_KEY,  \n",
    "  api_version=AZURE_OPENAI_API_VERSION\n",
    ")"
   ]
  },
  {
   "cell_type": "code",
   "execution_count": 27,
   "id": "a5101711-dd48-4a85-9c19-dfe805bef6fc",
   "metadata": {},
   "outputs": [
    {
     "name": "stdout",
     "output_type": "stream",
     "text": [
      "ChatCompletion(id='chatcmpl-AIzl9zOcTdfFl1gfQrExarOtcGIUG', choices=[Choice(finish_reason='stop', index=0, logprobs=None, message=ChatCompletionMessage(content=\"Cooking pasta is simple! Here’s a step-by-step guide:\\n\\n### Ingredients:\\n- Pasta (any type)\\n- Salt\\n- Water\\n\\n### Instructions:\\n\\n1. **Boil Water**: Fill a large pot with water. Use about 4-6 quarts of water for every pound of pasta. Bring it to a rolling boil over high heat.\\n\\n2. **Add Salt**: Once the water is boiling, add a generous amount of salt (about 1-2 tablespoons). This flavors the pasta as it cooks.\\n\\n3. **Add Pasta**: Add the pasta to the boiling water. Stir it immediately to prevent it from sticking together.\\n\\n4. **Cook Time**: Refer to the package instructions for cooking time. Most pasta takes about 8-12 minutes. Taste a piece a minute or two before the suggested time to check for doneness.\\n\\n5. **Drain**: Once the pasta is al dente (firm to the bite), turn off the heat and carefully drain it in a colander. Don’t rinse it unless you’re making a cold dish, as rinsing removes the starch that helps the sauce adhere.\\n\\n6. **Serve**: Toss the pasta with your favorite sauce, some olive oil, or butter, and enjoy!\\n\\n### Tips:\\n- For added flavor, you can add herbs or a bay leaf to the water while it boils.\\n- Reserve a cup of pasta water to adjust your sauce's consistency if needed.\\n\\nEnjoy your pasta!\", refusal=None, role='assistant', function_call=None, tool_calls=None), content_filter_results={'hate': {'filtered': False, 'severity': 'safe'}, 'protected_material_code': {'filtered': False, 'detected': False}, 'protected_material_text': {'filtered': False, 'detected': False}, 'self_harm': {'filtered': False, 'severity': 'safe'}, 'sexual': {'filtered': False, 'severity': 'safe'}, 'violence': {'filtered': False, 'severity': 'safe'}})], created=1729090671, model='gpt-4o-mini', object='chat.completion', service_tier=None, system_fingerprint='fp_878413d04d', usage=CompletionUsage(completion_tokens=298, prompt_tokens=43, total_tokens=341, completion_tokens_details=None, prompt_tokens_details=None), prompt_filter_results=[{'prompt_index': 0, 'content_filter_results': {'hate': {'filtered': False, 'severity': 'safe'}, 'jailbreak': {'filtered': False, 'detected': False}, 'self_harm': {'filtered': False, 'severity': 'safe'}, 'sexual': {'filtered': False, 'severity': 'safe'}, 'violence': {'filtered': False, 'severity': 'safe'}}}])\n"
     ]
    }
   ],
   "source": [
    "response = client.chat.completions.create(\n",
    "    model=AZURE_GPT_DEPLOYMENT_NAME, # model = \"deployment_name\".\n",
    "    messages=[\n",
    "        {\n",
    "            \"role\": \"system\", \n",
    "            \"content\": \"You are a cooking assistant is a large language model trained by OpenAI. You can only response to the food related questions.\"\n",
    "        },\n",
    "        {\n",
    "            \"role\": \"user\", \n",
    "            \"content\": \"How to cook a pasta? \"\n",
    "        }\n",
    "    ]\n",
    ")\n",
    "\n",
    "#print(response)\n",
    "# print(response.model_dump_json(indent=2))\n",
    "# print(response.choices[0].message.content)\n",
    "print(response)"
   ]
  },
  {
   "cell_type": "code",
   "execution_count": 38,
   "id": "b35255b3-9d05-40f8-9226-bc62b14e03be",
   "metadata": {},
   "outputs": [
    {
     "name": "stdout",
     "output_type": "stream",
     "text": [
      "ChatCompletion(id='chatcmpl-AIzl9zOcTdfFl1gfQrExarOtcGIUG', choices=[Choice(finish_reason='stop', index=0, logprobs=None, message=ChatCompletionMessage(content=\"Cooking pasta is simple! Here’s a step-by-step guide:\\n\\n### Ingredients:\\n- Pasta (any type)\\n- Salt\\n- Water\\n\\n### Instructions:\\n\\n1. **Boil Water**: Fill a large pot with water. Use about 4-6 quarts of water for every pound of pasta. Bring it to a rolling boil over high heat.\\n\\n2. **Add Salt**: Once the water is boiling, add a generous amount of salt (about 1-2 tablespoons). This flavors the pasta as it cooks.\\n\\n3. **Add Pasta**: Add the pasta to the boiling water. Stir it immediately to prevent it from sticking together.\\n\\n4. **Cook Time**: Refer to the package instructions for cooking time. Most pasta takes about 8-12 minutes. Taste a piece a minute or two before the suggested time to check for doneness.\\n\\n5. **Drain**: Once the pasta is al dente (firm to the bite), turn off the heat and carefully drain it in a colander. Don’t rinse it unless you’re making a cold dish, as rinsing removes the starch that helps the sauce adhere.\\n\\n6. **Serve**: Toss the pasta with your favorite sauce, some olive oil, or butter, and enjoy!\\n\\n### Tips:\\n- For added flavor, you can add herbs or a bay leaf to the water while it boils.\\n- Reserve a cup of pasta water to adjust your sauce's consistency if needed.\\n\\nEnjoy your pasta!\", refusal=None, role='assistant', function_call=None, tool_calls=None), content_filter_results={'hate': {'filtered': False, 'severity': 'safe'}, 'protected_material_code': {'filtered': False, 'detected': False}, 'protected_material_text': {'filtered': False, 'detected': False}, 'self_harm': {'filtered': False, 'severity': 'safe'}, 'sexual': {'filtered': False, 'severity': 'safe'}, 'violence': {'filtered': False, 'severity': 'safe'}})], created=1729090671, model='gpt-4o-mini', object='chat.completion', service_tier=None, system_fingerprint='fp_878413d04d', usage=CompletionUsage(completion_tokens=298, prompt_tokens=43, total_tokens=341, completion_tokens_details=None, prompt_tokens_details=None), prompt_filter_results=[{'prompt_index': 0, 'content_filter_results': {'hate': {'filtered': False, 'severity': 'safe'}, 'jailbreak': {'filtered': False, 'detected': False}, 'self_harm': {'filtered': False, 'severity': 'safe'}, 'sexual': {'filtered': False, 'severity': 'safe'}, 'violence': {'filtered': False, 'severity': 'safe'}}}]){"
     ]
    }
   ],
   "source": [
    "print(response, end='{')"
   ]
  },
  {
   "cell_type": "code",
   "execution_count": null,
   "id": "e3f37c3b-477c-473c-8213-f768544a60e3",
   "metadata": {},
   "outputs": [],
   "source": []
  }
 ],
 "metadata": {
  "kernelspec": {
   "display_name": "Python 3 (ipykernel)",
   "language": "python",
   "name": "python3"
  },
  "language_info": {
   "codemirror_mode": {
    "name": "ipython",
    "version": 3
   },
   "file_extension": ".py",
   "mimetype": "text/x-python",
   "name": "python",
   "nbconvert_exporter": "python",
   "pygments_lexer": "ipython3",
   "version": "3.11.0"
  }
 },
 "nbformat": 4,
 "nbformat_minor": 5
}
